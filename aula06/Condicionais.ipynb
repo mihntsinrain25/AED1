{
 "cells": [
  {
   "cell_type": "code",
   "execution_count": 25,
   "id": "2856f0af-95d1-4b40-a83b-b1064924935c",
   "metadata": {},
   "outputs": [
    {
     "name": "stdin",
     "output_type": "stream",
     "text": [
      "digite a sua idade:  18\n"
     ]
    }
   ],
   "source": [
    "idade = int(input(\"digite a sua idade: \"))"
   ]
  },
  {
   "cell_type": "code",
   "execution_count": 13,
   "id": "bc2075aa-bf9b-4085-8ff2-f16f502cd06c",
   "metadata": {},
   "outputs": [
    {
     "data": {
      "text/plain": [
       "int"
      ]
     },
     "execution_count": 13,
     "metadata": {},
     "output_type": "execute_result"
    }
   ],
   "source": [
    "type (idade)"
   ]
  },
  {
   "cell_type": "code",
   "execution_count": 15,
   "id": "31d3ed17-09e0-49fb-b0a5-58e91a1d7e99",
   "metadata": {},
   "outputs": [
    {
     "data": {
      "text/plain": [
       "True"
      ]
     },
     "execution_count": 15,
     "metadata": {},
     "output_type": "execute_result"
    }
   ],
   "source": [
    "idade >= 18"
   ]
  },
  {
   "cell_type": "code",
   "execution_count": 31,
   "id": "bbf495aa-0112-4ca7-8283-16b1f819fb9c",
   "metadata": {},
   "outputs": [
    {
     "name": "stdout",
     "output_type": "stream",
     "text": [
      "Você já é maior idade! Já está pronto pra vencer, assim como os boletos!\n",
      "Fim\n"
     ]
    }
   ],
   "source": [
    "if idade >= 18:\n",
    "    print(\"Você já é maior idade! Já está pronto pra vencer, assim como os boletos!\")\n",
    "else: \n",
    "    print(\"Espere mais um pouco!\")\n",
    "print(\"Fim\")"
   ]
  },
  {
   "cell_type": "code",
   "execution_count": 33,
   "id": "48d53906-9a8a-4bd2-8dd7-d9486894c03e",
   "metadata": {},
   "outputs": [
    {
     "name": "stdin",
     "output_type": "stream",
     "text": [
      "digite a sua idade:  18\n"
     ]
    },
    {
     "name": "stdout",
     "output_type": "stream",
     "text": [
      "Você já é maior idade! Já está pronto pra vencer, assim como os boletos!\n",
      "Fim\n"
     ]
    }
   ],
   "source": [
    "idade = int(input(\"digite a sua idade: \"))\n",
    "if idade >= 18:\n",
    "    print(\"Você já é maior idade! Já está pronto pra vencer, assim como os boletos!\")\n",
    "else: \n",
    "    print(\"Espere mais um pouco!\")\n",
    "print(\"Fim\")"
   ]
  },
  {
   "cell_type": "code",
   "execution_count": 45,
   "id": "9e979f28-45f3-42f7-bb8b-c955963723bf",
   "metadata": {},
   "outputs": [
    {
     "name": "stdin",
     "output_type": "stream",
     "text": [
      "Digite a nota1:  4\n",
      "Digite a nota2:  65\n"
     ]
    },
    {
     "name": "stdout",
     "output_type": "stream",
     "text": [
      "A média final foi:  34.5\n",
      "Aprovado(a)!!\n"
     ]
    }
   ],
   "source": [
    "nota1 = float(input(\"Digite a nota1: \"))\n",
    "nota2 = float(input(\"Digite a nota2: \"))\n",
    "media = (nota1 + nota2) / 2\n",
    "print(\"A média final foi: \", media)\n",
    "if media >= 6:\n",
    "    print(\"Aprovado(a)!!\")\n",
    "else:\n",
    "    print(\"Reprovado(a)!!\")"
   ]
  },
  {
   "cell_type": "code",
   "execution_count": 43,
   "id": "f61db519-9f3f-4608-9640-30ce6a2cc767",
   "metadata": {},
   "outputs": [
    {
     "name": "stdin",
     "output_type": "stream",
     "text": [
      "Digite um número:  6\n"
     ]
    },
    {
     "name": "stdout",
     "output_type": "stream",
     "text": [
      "O número é positivo!\n",
      "Fim\n"
     ]
    }
   ],
   "source": [
    "numero = int(input(\"Digite um número: \"))\n",
    "if numero >= 0:\n",
    "    print(\"O número é positivo!\")\n",
    "print(\"Fim\")"
   ]
  },
  {
   "cell_type": "code",
   "execution_count": 51,
   "id": "2056d388-968e-4cf3-b2d4-08d1970af79e",
   "metadata": {},
   "outputs": [
    {
     "name": "stdin",
     "output_type": "stream",
     "text": [
      "Digite a nota1:  5\n",
      "Digite a nota2:  5\n"
     ]
    },
    {
     "name": "stdout",
     "output_type": "stream",
     "text": [
      "5.0 é maior ou igual a 5.0\n"
     ]
    }
   ],
   "source": [
    "# aqui vamos fazer a entrada de dados\n",
    "nota1 = float(input(\"Digite a nota1: \"))\n",
    "nota2 = float(input(\"Digite a nota2: \"))\n",
    "\n",
    "# agora vamos fazer a comparação dos números\n",
    "if nota1 > nota2:\n",
    "    print(nota1, \"é maior que\", nota2) # n1>\n",
    "else: \n",
    "    print(nota2, \"é maior ou igual a\", nota1)"
   ]
  },
  {
   "cell_type": "code",
   "execution_count": 57,
   "id": "a358f6ce-e925-421a-8592-bf6874e2e146",
   "metadata": {},
   "outputs": [
    {
     "name": "stdin",
     "output_type": "stream",
     "text": [
      "Fruta:  Banana\n"
     ]
    },
    {
     "name": "stdout",
     "output_type": "stream",
     "text": [
      "O quilo da banana é 5,23\n"
     ]
    }
   ],
   "source": [
    "fruta = input(\"Fruta: \")\n",
    "if (fruta== \"Banana\"):\n",
    "    print(\"O quilo da banana é 5,23\")\n",
    "elif (fruta== \"Maça\"):\n",
    "    print(\"O quilo da maça é 12,10\")\n",
    "elif (fruta== \"Cereja\"):\n",
    "    print(\"O quilo da cereja é 58,00 reais\")\n",
    "else:\n",
    "    print(\"Desculpe. Não temos\", fruta)"
   ]
  },
  {
   "cell_type": "code",
   "execution_count": 63,
   "id": "4e02ecbf-188b-453f-9c00-a77edd74ee35",
   "metadata": {},
   "outputs": [
    {
     "name": "stdin",
     "output_type": "stream",
     "text": [
      "Digite uma letra:  o\n"
     ]
    },
    {
     "name": "stdout",
     "output_type": "stream",
     "text": [
      "A letra digitada é uma vogal!\n"
     ]
    }
   ],
   "source": [
    "letra = input(\"Digite uma letra: \")\n",
    "if letra == 'a' or letra == 'A':\n",
    "    print(\"A letra digitada é uma vogal!\")\n",
    "elif letra == 'e' or letra == 'E':\n",
    "    print(\"A letra digitada é uma vogal!\")\n",
    "elif letra == 'i' or letra == 'I':\n",
    "    print(\"A letra digitada é uma vogal!\")\n",
    "elif letra == 'o' or letra == 'O':\n",
    "    print(\"A letra digitada é uma vogal!\")\n",
    "elif letra == 'u' or letra == 'U':\n",
    "    print(\"A letra digitada é uma vogal!\")\n",
    "else:\n",
    "    print(\"A letra digitada é uma consoante!\")"
   ]
  },
  {
   "cell_type": "code",
   "execution_count": 65,
   "id": "542b6f90-ade3-4862-944f-7f16daf572af",
   "metadata": {},
   "outputs": [
    {
     "name": "stdin",
     "output_type": "stream",
     "text": [
      "Digite uma letra:  h\n"
     ]
    },
    {
     "name": "stdout",
     "output_type": "stream",
     "text": [
      "A letra é uma consoante\n"
     ]
    }
   ],
   "source": [
    "# você pode colocar \".upper()\" para deixar todas as letras em maiúsculo, permitindo que ele atenda a condição\n",
    "\n",
    "letra = input(\"Digite uma letra: \").upper()\n",
    "if letra in \"AEIOU\":\n",
    "    print(\"A letra é uma vogal\")\n",
    "else:\n",
    "    print(\"A letra é uma consoante\")"
   ]
  },
  {
   "cell_type": "code",
   "execution_count": 83,
   "id": "c8493dfe-8793-4f25-8493-c716b6ddcc8d",
   "metadata": {},
   "outputs": [
    {
     "name": "stdin",
     "output_type": "stream",
     "text": [
      "Digite uma letra:  j\n"
     ]
    },
    {
     "name": "stdout",
     "output_type": "stream",
     "text": [
      "A letra é uma consoante\n"
     ]
    }
   ],
   "source": [
    "# semelhantemente, se você colocar \".lower()\" ele coloca todas as letras em minúsculo, permitindo que atenda a condição \n",
    "\n",
    "letra = input(\"Digite uma letra: \").lower()\n",
    "if letra in \"aeiou\":\n",
    "    print(\"A letra é uma vogal\")\n",
    "else:\n",
    "    print(\"A letra é uma consoante\")"
   ]
  },
  {
   "cell_type": "code",
   "execution_count": 79,
   "id": "37337828-2dbb-495e-9d22-4498c3faedcf",
   "metadata": {},
   "outputs": [
    {
     "name": "stdin",
     "output_type": "stream",
     "text": [
      "Entre com um número  98\n"
     ]
    },
    {
     "name": "stdout",
     "output_type": "stream",
     "text": [
      "98 é par positivo!\n"
     ]
    }
   ],
   "source": [
    "n = int(input(\"Entre com um número \"))\n",
    "if (n >= 0):\n",
    "    if (n % 2) == 0:\n",
    "        print(n, \"é par positivo!\")\n",
    "    else:\n",
    "        print(n, \"é ímpar positivo!\")\n",
    "else:\n",
    "    if (abs (n) % 2) == 0:\n",
    "        #abs é como um módulo, desconsidera o sinal \n",
    "        \n",
    "        print(n, \"é par negativo!\")\n",
    "    else:\n",
    "        print(n, \"é ímpar negativo!\")"
   ]
  },
  {
   "cell_type": "code",
   "execution_count": 93,
   "id": "3d40b627-bcdb-465c-9fdb-782543baf71c",
   "metadata": {},
   "outputs": [
    {
     "name": "stdin",
     "output_type": "stream",
     "text": [
      "Digite a idade do nadador:  18\n"
     ]
    },
    {
     "name": "stdout",
     "output_type": "stream",
     "text": [
      "Categoria adulto\n"
     ]
    }
   ],
   "source": [
    "idade = int(input(\"Digite a idade do nadador: \"))\n",
    "if idade < 5:\n",
    "    print(\"Categoria inexistente\")\n",
    "elif idade <= 7:\n",
    "    print(\"Categoria infantil\")\n",
    "elif idade <= 10:\n",
    "    print(\"Categoria juvenil\")\n",
    "elif idade <= 15:\n",
    "    print (\"Categoria adolescente\")\n",
    "elif idade <= 30:\n",
    "    print(\"Categoria adulto\")\n",
    "else:\n",
    "    print(\"Categoria sênior\")"
   ]
  },
  {
   "cell_type": "code",
   "execution_count": null,
   "id": "afcec5c9-25be-4bcd-9db9-e95850de51b6",
   "metadata": {},
   "outputs": [],
   "source": []
  }
 ],
 "metadata": {
  "kernelspec": {
   "display_name": "Python [conda env:anaconda3]",
   "language": "python",
   "name": "conda-env-anaconda3-py"
  },
  "language_info": {
   "codemirror_mode": {
    "name": "ipython",
    "version": 3
   },
   "file_extension": ".py",
   "mimetype": "text/x-python",
   "name": "python",
   "nbconvert_exporter": "python",
   "pygments_lexer": "ipython3",
   "version": "3.13.5"
  }
 },
 "nbformat": 4,
 "nbformat_minor": 5
}

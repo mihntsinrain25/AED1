{
 "cells": [
  {
   "cell_type": "code",
   "execution_count": 1,
   "id": "c0a86148-1f9f-40fe-bb57-14b682732da9",
   "metadata": {},
   "outputs": [
    {
     "data": {
      "text/plain": [
       "1"
      ]
     },
     "execution_count": 1,
     "metadata": {},
     "output_type": "execute_result"
    }
   ],
   "source": [
    "7%3"
   ]
  },
  {
   "cell_type": "code",
   "execution_count": 3,
   "id": "1f9ba14c-d3b1-4c9e-a4c6-2f666a9e44dd",
   "metadata": {},
   "outputs": [
    {
     "data": {
      "text/plain": [
       "2"
      ]
     },
     "execution_count": 3,
     "metadata": {},
     "output_type": "execute_result"
    }
   ],
   "source": [
    "7//3"
   ]
  },
  {
   "cell_type": "code",
   "execution_count": 5,
   "id": "3d1e8989-be40-43a4-b784-d53e844957e5",
   "metadata": {},
   "outputs": [
    {
     "data": {
      "text/plain": [
       "2.3333333333333335"
      ]
     },
     "execution_count": 5,
     "metadata": {},
     "output_type": "execute_result"
    }
   ],
   "source": [
    "7/3"
   ]
  },
  {
   "cell_type": "code",
   "execution_count": 7,
   "id": "cae9ae0f-e907-430c-be98-306bf1627523",
   "metadata": {},
   "outputs": [
    {
     "ename": "SyntaxError",
     "evalue": "invalid decimal literal (1580614715.py, line 1)",
     "output_type": "error",
     "traceback": [
      "\u001b[1;36m  Cell \u001b[1;32mIn[7], line 1\u001b[1;36m\u001b[0m\n\u001b[1;33m    y=(x+3b)/(2x+c)\u001b[0m\n\u001b[1;37m         ^\u001b[0m\n\u001b[1;31mSyntaxError\u001b[0m\u001b[1;31m:\u001b[0m invalid decimal literal\n"
     ]
    }
   ],
   "source": [
    "y=(x+3b)/(2x+c)"
   ]
  },
  {
   "cell_type": "code",
   "execution_count": 9,
   "id": "9b671f6d-7008-42cb-afcd-9b4aaa18649f",
   "metadata": {},
   "outputs": [
    {
     "ename": "NameError",
     "evalue": "name 'x' is not defined",
     "output_type": "error",
     "traceback": [
      "\u001b[1;31m---------------------------------------------------------------------------\u001b[0m",
      "\u001b[1;31mNameError\u001b[0m                                 Traceback (most recent call last)",
      "Cell \u001b[1;32mIn[9], line 1\u001b[0m\n\u001b[1;32m----> 1\u001b[0m y\u001b[38;5;241m=\u001b[39m(x\u001b[38;5;241m+\u001b[39m\u001b[38;5;241m3\u001b[39m\u001b[38;5;241m*\u001b[39mb)\u001b[38;5;241m/\u001b[39m(\u001b[38;5;241m2\u001b[39m\u001b[38;5;241m*\u001b[39mx\u001b[38;5;241m+\u001b[39mc)\n",
      "\u001b[1;31mNameError\u001b[0m: name 'x' is not defined"
     ]
    }
   ],
   "source": [
    "y=(x+3*b)/(2*x+c)"
   ]
  },
  {
   "cell_type": "code",
   "execution_count": 11,
   "id": "a53d86c9-696d-4b02-8415-59eeadb4e509",
   "metadata": {},
   "outputs": [
    {
     "ename": "NameError",
     "evalue": "name 'x' is not defined",
     "output_type": "error",
     "traceback": [
      "\u001b[1;31m---------------------------------------------------------------------------\u001b[0m",
      "\u001b[1;31mNameError\u001b[0m                                 Traceback (most recent call last)",
      "Cell \u001b[1;32mIn[11], line 1\u001b[0m\n\u001b[1;32m----> 1\u001b[0m y \u001b[38;5;241m=\u001b[39m (x \u001b[38;5;241m+\u001b[39m \u001b[38;5;241m3\u001b[39m \u001b[38;5;241m*\u001b[39m b ) \u001b[38;5;241m/\u001b[39m ( \u001b[38;5;241m2\u001b[39m \u001b[38;5;241m*\u001b[39m x \u001b[38;5;241m+\u001b[39m c )\n",
      "\u001b[1;31mNameError\u001b[0m: name 'x' is not defined"
     ]
    }
   ],
   "source": [
    "y = (x + 3 * b ) / ( 2 * x + c )"
   ]
  },
  {
   "cell_type": "code",
   "execution_count": null,
   "id": "766aa88b-7984-4d47-bf1d-139bbc144f1f",
   "metadata": {},
   "outputs": [],
   "source": [
    "b = 5\n",
    "x = 7\n",
    "c = 8"
   ]
  },
  {
   "cell_type": "code",
   "execution_count": 15,
   "id": "e0d37977-a59b-40f7-8075-d64115cfc484",
   "metadata": {},
   "outputs": [
    {
     "ename": "NameError",
     "evalue": "name 'x' is not defined",
     "output_type": "error",
     "traceback": [
      "\u001b[1;31m---------------------------------------------------------------------------\u001b[0m",
      "\u001b[1;31mNameError\u001b[0m                                 Traceback (most recent call last)",
      "Cell \u001b[1;32mIn[15], line 1\u001b[0m\n\u001b[1;32m----> 1\u001b[0m y \u001b[38;5;241m=\u001b[39m (x\u001b[38;5;241m+\u001b[39m\u001b[38;5;241m3\u001b[39m\u001b[38;5;241m*\u001b[39mb) \u001b[38;5;241m/\u001b[39m (\u001b[38;5;241m2\u001b[39m\u001b[38;5;241m*\u001b[39mx\u001b[38;5;241m+\u001b[39mc)\n",
      "\u001b[1;31mNameError\u001b[0m: name 'x' is not defined"
     ]
    }
   ],
   "source": [
    "y = (x+3*b) / (2*x+c)"
   ]
  },
  {
   "cell_type": "code",
   "execution_count": 25,
   "id": "ffe3a112-bf94-444c-a3dc-9a1cee742614",
   "metadata": {},
   "outputs": [
    {
     "data": {
      "text/plain": [
       "-1.7834936490538904"
      ]
     },
     "execution_count": 25,
     "metadata": {},
     "output_type": "execute_result"
    }
   ],
   "source": [
    "import math\n",
    "\n",
    "y = (((2*2**2-3*2**(2+1))/2)+(math.sqrt(2+1)/2))/(2*2)\n",
    "y"
   ]
  },
  {
   "cell_type": "code",
   "execution_count": 33,
   "id": "b1173fbb-3442-4143-8448-35ba7cd85aaa",
   "metadata": {},
   "outputs": [
    {
     "name": "stdin",
     "output_type": "stream",
     "text": [
      "Digite o valor 1:  5\n",
      "Digite o valor 2:  6\n"
     ]
    }
   ],
   "source": [
    "r = int(input(\"Digite o valor 1: \"))\n",
    "s = int(input(\"Digite o valor 2: \"))"
   ]
  },
  {
   "cell_type": "code",
   "execution_count": 35,
   "id": "b80e8bb8-fd8d-4eff-8dd4-799b13442bf8",
   "metadata": {},
   "outputs": [
    {
     "name": "stdout",
     "output_type": "stream",
     "text": [
      "A soma é:  11\n"
     ]
    }
   ],
   "source": [
    "print(\"A soma é: \", r+s)"
   ]
  },
  {
   "cell_type": "code",
   "execution_count": null,
   "id": "f0ed2659-b28d-4f9b-a8ca-1f23c7bf390b",
   "metadata": {},
   "outputs": [],
   "source": []
  }
 ],
 "metadata": {
  "kernelspec": {
   "display_name": "Python [conda env:base] *",
   "language": "python",
   "name": "conda-base-py"
  },
  "language_info": {
   "codemirror_mode": {
    "name": "ipython",
    "version": 3
   },
   "file_extension": ".py",
   "mimetype": "text/x-python",
   "name": "python",
   "nbconvert_exporter": "python",
   "pygments_lexer": "ipython3",
   "version": "3.12.7"
  }
 },
 "nbformat": 4,
 "nbformat_minor": 5
}

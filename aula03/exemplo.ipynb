{
 "cells": [
  {
   "cell_type": "code",
   "execution_count": 1,
   "id": "c76e6d02-3405-41a5-9edf-274398e2608e",
   "metadata": {},
   "outputs": [
    {
     "data": {
      "text/plain": [
       "5"
      ]
     },
     "execution_count": 1,
     "metadata": {},
     "output_type": "execute_result"
    }
   ],
   "source": [
    "2+3"
   ]
  },
  {
   "cell_type": "code",
   "execution_count": 3,
   "id": "2b83eaf4-8019-46f4-aa99-9a4307353244",
   "metadata": {},
   "outputs": [
    {
     "name": "stdout",
     "output_type": "stream",
     "text": [
      "hello world!\n"
     ]
    }
   ],
   "source": [
    "print(\"hello world!\")"
   ]
  },
  {
   "cell_type": "code",
   "execution_count": 5,
   "id": "67c6f33d-3a9c-42cd-ab2d-cfb1c6f9f21d",
   "metadata": {},
   "outputs": [
    {
     "ename": "NameError",
     "evalue": "name 'Maria' is not defined",
     "output_type": "error",
     "traceback": [
      "\u001b[1;31m---------------------------------------------------------------------------\u001b[0m",
      "\u001b[1;31mNameError\u001b[0m                                 Traceback (most recent call last)",
      "Cell \u001b[1;32mIn[5], line 1\u001b[0m\n\u001b[1;32m----> 1\u001b[0m nome\u001b[38;5;241m=\u001b[39mMaria\n",
      "\u001b[1;31mNameError\u001b[0m: name 'Maria' is not defined"
     ]
    }
   ],
   "source": [
    "nome=Maria"
   ]
  },
  {
   "cell_type": "code",
   "execution_count": null,
   "id": "73159a16-2973-4220-bce8-e543be3c388b",
   "metadata": {},
   "outputs": [],
   "source": [
    "nome=Maria"
   ]
  },
  {
   "cell_type": "code",
   "execution_count": null,
   "id": "21c7fa0a-08f3-4a3c-8137-2f3aff615491",
   "metadata": {},
   "outputs": [],
   "source": [
    "idade=25"
   ]
  },
  {
   "cell_type": "code",
   "execution_count": 7,
   "id": "4dd4e644-4078-487f-9bd0-94f2ac92869f",
   "metadata": {},
   "outputs": [
    {
     "ename": "SyntaxError",
     "evalue": "unterminated string literal (detected at line 1) (809375910.py, line 1)",
     "output_type": "error",
     "traceback": [
      "\u001b[1;36m  Cell \u001b[1;32mIn[7], line 1\u001b[1;36m\u001b[0m\n\u001b[1;33m    print=(nome,\"tem\",idade\",\"anos!\")\u001b[0m\n\u001b[1;37m                                   ^\u001b[0m\n\u001b[1;31mSyntaxError\u001b[0m\u001b[1;31m:\u001b[0m unterminated string literal (detected at line 1)\n"
     ]
    }
   ],
   "source": [
    "print=(nome,\"tem\",idade\",\"anos!\")"
   ]
  },
  {
   "cell_type": "code",
   "execution_count": 9,
   "id": "7a77ef15-b928-4ffa-9fb1-46e8ad7f8ac8",
   "metadata": {},
   "outputs": [
    {
     "ename": "SyntaxError",
     "evalue": "unterminated string literal (detected at line 1) (2509431001.py, line 1)",
     "output_type": "error",
     "traceback": [
      "\u001b[1;36m  Cell \u001b[1;32mIn[9], line 1\u001b[1;36m\u001b[0m\n\u001b[1;33m    print(nome,\"tem\",idade\",\"anos!\")\u001b[0m\n\u001b[1;37m                                  ^\u001b[0m\n\u001b[1;31mSyntaxError\u001b[0m\u001b[1;31m:\u001b[0m unterminated string literal (detected at line 1)\n"
     ]
    }
   ],
   "source": [
    "print(nome,\"tem\",idade\",\"anos!\")"
   ]
  },
  {
   "cell_type": "code",
   "execution_count": 15,
   "id": "586910cd-c34c-4cfa-9b73-0e974798976c",
   "metadata": {},
   "outputs": [
    {
     "name": "stdout",
     "output_type": "stream",
     "text": [
      "Maria  tem  25  anos de vida! \n"
     ]
    }
   ],
   "source": [
    "nome = \"Maria\"\n",
    "idade = 25\n",
    "\n",
    "print(nome, \" tem \", idade, \" anos de vida! \")"
   ]
  },
  {
   "cell_type": "code",
   "execution_count": 17,
   "id": "e46b492d-abee-4d18-9261-c0209c4529cc",
   "metadata": {},
   "outputs": [
    {
     "data": {
      "text/plain": [
       "int"
      ]
     },
     "execution_count": 17,
     "metadata": {},
     "output_type": "execute_result"
    }
   ],
   "source": [
    "x = 70\n",
    "type(x)"
   ]
  },
  {
   "cell_type": "code",
   "execution_count": 19,
   "id": "7b9762fd-7cf8-4cf4-aed8-6b4358551d17",
   "metadata": {},
   "outputs": [],
   "source": [
    "r = 4.5"
   ]
  },
  {
   "cell_type": "code",
   "execution_count": 21,
   "id": "d5cf88fb-b9bc-4070-bde2-80c9e46daff5",
   "metadata": {},
   "outputs": [
    {
     "data": {
      "text/plain": [
       "float"
      ]
     },
     "execution_count": 21,
     "metadata": {},
     "output_type": "execute_result"
    }
   ],
   "source": [
    "type(r)"
   ]
  },
  {
   "cell_type": "code",
   "execution_count": 23,
   "id": "50648dd2-b572-44de-8f7f-c00c0db3f7f6",
   "metadata": {},
   "outputs": [],
   "source": [
    "r = \"Saída\""
   ]
  },
  {
   "cell_type": "code",
   "execution_count": 25,
   "id": "959ff451-bd63-44cc-9b27-c86f9ddc0d75",
   "metadata": {},
   "outputs": [
    {
     "data": {
      "text/plain": [
       "str"
      ]
     },
     "execution_count": 25,
     "metadata": {},
     "output_type": "execute_result"
    }
   ],
   "source": [
    "type(r)"
   ]
  },
  {
   "cell_type": "code",
   "execution_count": 27,
   "id": "5417ff3c-4ef9-48be-b63f-f393acbd3a4a",
   "metadata": {},
   "outputs": [
    {
     "data": {
      "text/plain": [
       "'SAÍDA'"
      ]
     },
     "execution_count": 27,
     "metadata": {},
     "output_type": "execute_result"
    }
   ],
   "source": [
    "r.upper()"
   ]
  },
  {
   "cell_type": "code",
   "execution_count": 29,
   "id": "ace04dc9-3975-4984-a8f9-4235f57e7dc5",
   "metadata": {},
   "outputs": [
    {
     "data": {
      "text/plain": [
       "<function str.upper()>"
      ]
     },
     "execution_count": 29,
     "metadata": {},
     "output_type": "execute_result"
    }
   ],
   "source": [
    "r.upper"
   ]
  },
  {
   "cell_type": "code",
   "execution_count": null,
   "id": "358f9040-abb2-4b9b-a321-e0facb0c5cbb",
   "metadata": {},
   "outputs": [],
   "source": []
  }
 ],
 "metadata": {
  "kernelspec": {
   "display_name": "Python [conda env:base] *",
   "language": "python",
   "name": "conda-base-py"
  },
  "language_info": {
   "codemirror_mode": {
    "name": "ipython",
    "version": 3
   },
   "file_extension": ".py",
   "mimetype": "text/x-python",
   "name": "python",
   "nbconvert_exporter": "python",
   "pygments_lexer": "ipython3",
   "version": "3.12.7"
  }
 },
 "nbformat": 4,
 "nbformat_minor": 5
}

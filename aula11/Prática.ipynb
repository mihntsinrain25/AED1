{
 "cells": [
  {
   "cell_type": "code",
   "execution_count": null,
   "id": "02fdf146-a179-415e-97dd-c70e0dfb9d37",
   "metadata": {},
   "outputs": [],
   "source": [
    "LOJA VENDE+\n",
    "\n",
    "RELATÓRIO DE VENDAS\n",
    "\n",
    "    Total de vendas do mês: R$ 52.810,00\n",
    "    Total de vendas semanais:\n",
    "        Semana 1: R$ 12.020,00\n",
    "        Semana 2: R$ 13.610,00\n",
    "        Semana 3: R$ 12.700,00\n",
    "        Semana 4: R$ 14.480,00\n",
    "\n",
    "    Média de vendas: R$ 2.640,50\n",
    "    Melhor dia: 29/08/2025 - R$ 3.400,00\n",
    "    Pior dia: 05/08/2025 - R$ 1.980,00\n",
    "    Pico mensal: 28,76%"
   ]
  },
  {
   "cell_type": "code",
   "execution_count": 85,
   "id": "d803ea05-0900-4bd8-834b-99c7074e26d6",
   "metadata": {},
   "outputs": [],
   "source": [
    "vendas_agosto = {\n",
    "    \"04/08/2025\": 2350,\n",
    "    \"05/08/2025\": 1980,\n",
    "    \"06/08/2025\": 2540,\n",
    "    \"07/08/2025\": 2100,\n",
    "    \"08/08/2025\": 3050,\n",
    "    \"11/08/2025\": 2650,\n",
    "    \"12/08/2025\": 2180,\n",
    "    \"13/08/2025\": 2760,\n",
    "    \"14/08/2025\": 2920,\n",
    "    \"15/08/2025\": 3100,\n",
    "    \"18/08/2025\": 2300,\n",
    "    \"19/08/2025\": 2430,\n",
    "    \"20/08/2025\": 2210,\n",
    "    \"21/08/2025\": 2790,\n",
    "    \"22/08/2025\": 2970,\n",
    "    \"25/08/2025\": 3100,\n",
    "    \"26/08/2025\": 2880,\n",
    "    \"27/08/2025\": 2600,\n",
    "    \"28/08/2025\": 2500,\n",
    "    \"29/08/2025\": 3400\n",
    "}\n"
   ]
  },
  {
   "cell_type": "code",
   "execution_count": 86,
   "id": "f3c3138d-5c36-4599-b089-670f447ac109",
   "metadata": {},
   "outputs": [
    {
     "name": "stdout",
     "output_type": "stream",
     "text": [
      "Total do mês: 52810\n"
     ]
    }
   ],
   "source": [
    "# Total do mês\n",
    "total = sum(vendas_agosto.values())\n",
    "print(\"Total do mês:\", total)"
   ]
  },
  {
   "cell_type": "code",
   "execution_count": 87,
   "id": "6b93b724-34c3-4631-be3c-6fa4e86e6833",
   "metadata": {},
   "outputs": [
    {
     "name": "stdout",
     "output_type": "stream",
     "text": [
      "Média diária: 2640.5\n"
     ]
    }
   ],
   "source": [
    "# Média diária\n",
    "media = total / len(vendas_agosto)\n",
    "print(\"Média diária:\", media)"
   ]
  },
  {
   "cell_type": "code",
   "execution_count": 88,
   "id": "d5fedbc2-e540-48f0-9912-4d1242c67e58",
   "metadata": {},
   "outputs": [
    {
     "name": "stdout",
     "output_type": "stream",
     "text": [
      "Melhor dia: 29/08/2025 com 3400\n"
     ]
    }
   ],
   "source": [
    "# Melhor dia\n",
    "melhor_dia = \"\"\n",
    "melhor_valor = 0\n",
    "for dia, valor in vendas_agosto.items():\n",
    "    if valor > melhor_valor:\n",
    "        melhor_valor = valor\n",
    "        melhor_dia = dia\n",
    "print(\"Melhor dia:\", melhor_dia, \"com\", melhor_valor)"
   ]
  },
  {
   "cell_type": "code",
   "execution_count": 89,
   "id": "d5513d7c-27fd-41f9-9990-5459a4764e77",
   "metadata": {},
   "outputs": [
    {
     "name": "stdout",
     "output_type": "stream",
     "text": [
      "Pior dia: 05/08/2025 com 1980\n"
     ]
    }
   ],
   "source": [
    "# Pior dia\n",
    "pior_dia = \"\"\n",
    "pior_valor = melhor_valor\n",
    "for dia, valor in vendas_agosto.items():\n",
    "    if valor < pior_valor:\n",
    "        pior_valor = valor\n",
    "        pior_dia = dia\n",
    "print(\"Pior dia:\", pior_dia, \"com\", pior_valor)"
   ]
  },
  {
   "cell_type": "code",
   "execution_count": 90,
   "id": "4b25a1a3-2fde-40cc-860e-187359b50236",
   "metadata": {},
   "outputs": [
    {
     "name": "stdout",
     "output_type": "stream",
     "text": [
      "Diferença percentual do pico: 28.76349176292369\n"
     ]
    }
   ],
   "source": [
    "# Diferença percentual entre melhor dia e média\n",
    "diferenca_percentual = ((melhor_valor - media) / media) * 100\n",
    "print(\"Diferença percentual do pico:\", diferenca_percentual)"
   ]
  },
  {
   "cell_type": "code",
   "execution_count": 94,
   "id": "42079cb6-c389-4e00-92b4-e7ec4bdf1c5a",
   "metadata": {},
   "outputs": [
    {
     "name": "stdout",
     "output_type": "stream",
     "text": [
      "Total do mês: 52810\n",
      "Média diária: 2640.5\n",
      "Melhor dia: 29/08/2025 com 3400\n",
      "Pior dia: 05/08/2025 com 1980\n",
      "Diferença percentual do pico: 28.76349176292369\n"
     ]
    }
   ],
   "source": [
    "# Código junto p/ melhor visualização\n",
    "\n",
    "vendas_agosto = {\n",
    "    \"04/08/2025\": 2350,\n",
    "    \"05/08/2025\": 1980,\n",
    "    \"06/08/2025\": 2540,\n",
    "    \"07/08/2025\": 2100,\n",
    "    \"08/08/2025\": 3050,\n",
    "    \"11/08/2025\": 2650,\n",
    "    \"12/08/2025\": 2180,\n",
    "    \"13/08/2025\": 2760,\n",
    "    \"14/08/2025\": 2920,\n",
    "    \"15/08/2025\": 3100,\n",
    "    \"18/08/2025\": 2300,\n",
    "    \"19/08/2025\": 2430,\n",
    "    \"20/08/2025\": 2210,\n",
    "    \"21/08/2025\": 2790,\n",
    "    \"22/08/2025\": 2970,\n",
    "    \"25/08/2025\": 3100,\n",
    "    \"26/08/2025\": 2880,\n",
    "    \"27/08/2025\": 2600,\n",
    "    \"28/08/2025\": 2500,\n",
    "    \"29/08/2025\": 3400\n",
    "}\n",
    "\n",
    "# Total do mês\n",
    "total = sum(vendas_agosto.values())\n",
    "print(\"Total do mês:\", total)\n",
    "\n",
    "# Média diária\n",
    "media = total / len(vendas_agosto)\n",
    "print(\"Média diária:\", media)\n",
    "\n",
    "# Melhor dia\n",
    "melhor_dia = \"\"\n",
    "melhor_valor = 0\n",
    "for dia, valor in vendas_agosto.items():\n",
    "    if valor > melhor_valor:\n",
    "        melhor_valor = valor\n",
    "        melhor_dia = dia\n",
    "print(\"Melhor dia:\", melhor_dia, \"com\", melhor_valor)\n",
    "\n",
    "# Pior dia\n",
    "pior_dia = \"\"\n",
    "pior_valor = melhor_valor\n",
    "for dia, valor in vendas_agosto.items():\n",
    "    if valor < pior_valor:\n",
    "        pior_valor = valor\n",
    "        pior_dia = dia\n",
    "print(\"Pior dia:\", pior_dia, \"com\", pior_valor)\n",
    "\n",
    "# Diferença percentual entre melhor dia e média\n",
    "diferenca_percentual = ((melhor_valor - media) / media) * 100\n",
    "print(\"Diferença percentual do pico:\", diferenca_percentual)"
   ]
  },
  {
   "cell_type": "code",
   "execution_count": null,
   "id": "1378efd0-5bfb-433a-9187-f3435c5bb0b0",
   "metadata": {},
   "outputs": [],
   "source": [
    "# DIVISÃO SEMANAL"
   ]
  },
  {
   "cell_type": "code",
   "execution_count": 102,
   "id": "49f6959b-1890-4aa4-aab3-bfa1703ff411",
   "metadata": {},
   "outputs": [
    {
     "name": "stdout",
     "output_type": "stream",
     "text": [
      "Semana 1: 12020\n"
     ]
    }
   ],
   "source": [
    "# Semana 1: 04/08 a 08/08\n",
    "semana1 = [\n",
    "    vendas_agosto[\"04/08/2025\"],\n",
    "    vendas_agosto[\"05/08/2025\"],\n",
    "    vendas_agosto[\"06/08/2025\"],\n",
    "    vendas_agosto[\"07/08/2025\"],\n",
    "    vendas_agosto[\"08/08/2025\"]\n",
    "]\n",
    "total_semana1 = sum(semana1)\n",
    "print(\"Semana 1:\", total_semana1)"
   ]
  },
  {
   "cell_type": "code",
   "execution_count": 103,
   "id": "b335eb34-017f-41fc-9b63-fa06d665c5e5",
   "metadata": {},
   "outputs": [
    {
     "name": "stdout",
     "output_type": "stream",
     "text": [
      "Semana 2: 13610\n"
     ]
    }
   ],
   "source": [
    "# Semana 2: 11/08 a 15/08\n",
    "semana2 = [\n",
    "    vendas_agosto[\"11/08/2025\"],\n",
    "    vendas_agosto[\"12/08/2025\"],\n",
    "    vendas_agosto[\"13/08/2025\"],\n",
    "    vendas_agosto[\"14/08/2025\"],\n",
    "    vendas_agosto[\"15/08/2025\"]\n",
    "]\n",
    "total_semana2 = sum(semana2)\n",
    "print(\"Semana 2:\", total_semana2)"
   ]
  },
  {
   "cell_type": "code",
   "execution_count": 104,
   "id": "de071246-c008-4931-aaea-02b2195dbc98",
   "metadata": {},
   "outputs": [
    {
     "name": "stdout",
     "output_type": "stream",
     "text": [
      "Semana 3: 12700\n"
     ]
    }
   ],
   "source": [
    "# Semana 3: 18/08 a 22/08\n",
    "semana3 = [\n",
    "    vendas_agosto[\"18/08/2025\"],\n",
    "    vendas_agosto[\"19/08/2025\"],\n",
    "    vendas_agosto[\"20/08/2025\"],\n",
    "    vendas_agosto[\"21/08/2025\"],\n",
    "    vendas_agosto[\"22/08/2025\"]\n",
    "]\n",
    "total_semana3 = sum(semana3)\n",
    "print(\"Semana 3:\", total_semana3)"
   ]
  },
  {
   "cell_type": "code",
   "execution_count": 105,
   "id": "39b483f3-8040-4747-8666-d6fc93162c90",
   "metadata": {},
   "outputs": [
    {
     "name": "stdout",
     "output_type": "stream",
     "text": [
      "Semana 4: 14480\n"
     ]
    }
   ],
   "source": [
    "# Semana 4: 25/08 a 29/08\n",
    "semana4 = [\n",
    "    vendas_agosto[\"25/08/2025\"],\n",
    "    vendas_agosto[\"26/08/2025\"],\n",
    "    vendas_agosto[\"27/08/2025\"],\n",
    "    vendas_agosto[\"28/08/2025\"],\n",
    "    vendas_agosto[\"29/08/2025\"]\n",
    "]\n",
    "total_semana4 = sum(semana4)\n",
    "print(\"Semana 4:\", total_semana4)"
   ]
  },
  {
   "cell_type": "code",
   "execution_count": null,
   "id": "3aac5b88-c651-4a32-953f-81f5e1c2e493",
   "metadata": {},
   "outputs": [],
   "source": []
  },
  {
   "cell_type": "code",
   "execution_count": null,
   "id": "27d775ac-6c64-45e9-9411-08af4616d750",
   "metadata": {},
   "outputs": [],
   "source": []
  }
 ],
 "metadata": {
  "kernelspec": {
   "display_name": "Python 3 (ipykernel)",
   "language": "python",
   "name": "python3"
  },
  "language_info": {
   "codemirror_mode": {
    "name": "ipython",
    "version": 3
   },
   "file_extension": ".py",
   "mimetype": "text/x-python",
   "name": "python",
   "nbconvert_exporter": "python",
   "pygments_lexer": "ipython3",
   "version": "3.13.5"
  }
 },
 "nbformat": 4,
 "nbformat_minor": 5
}

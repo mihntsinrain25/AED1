{
 "cells": [
  {
   "cell_type": "code",
   "execution_count": 11,
   "id": "002aa150-faae-4433-ab5a-0711010dd61b",
   "metadata": {},
   "outputs": [
    {
     "ename": "TypeError",
     "evalue": "Kernel.raw_input() takes from 1 to 2 positional arguments but 4 were given",
     "output_type": "error",
     "traceback": [
      "\u001b[1;31m---------------------------------------------------------------------------\u001b[0m",
      "\u001b[1;31mTypeError\u001b[0m                                 Traceback (most recent call last)",
      "Cell \u001b[1;32mIn[11], line 3\u001b[0m\n\u001b[0;32m      1\u001b[0m soma \u001b[38;5;241m=\u001b[39m \u001b[38;5;241m0\u001b[39m\n\u001b[0;32m      2\u001b[0m \u001b[38;5;28;01mfor\u001b[39;00m i \u001b[38;5;129;01min\u001b[39;00m \u001b[38;5;28mrange\u001b[39m (\u001b[38;5;241m1\u001b[39m,\u001b[38;5;241m6\u001b[39m) :\n\u001b[1;32m----> 3\u001b[0m     idade \u001b[38;5;241m=\u001b[39m \u001b[38;5;28mint\u001b[39m (\u001b[38;5;28minput\u001b[39m (\u001b[38;5;124m\"\u001b[39m\u001b[38;5;124mEntre com a idade\u001b[39m\u001b[38;5;124m\"\u001b[39m, i, \u001b[38;5;124m\"\u001b[39m\u001b[38;5;124m :\u001b[39m\u001b[38;5;124m\"\u001b[39m))\n\u001b[0;32m      4\u001b[0m     soma \u001b[38;5;241m=\u001b[39m soma \u001b[38;5;241m+\u001b[39m idade\n\u001b[0;32m      5\u001b[0m media \u001b[38;5;241m=\u001b[39m soma \u001b[38;5;241m/\u001b[39m \u001b[38;5;241m5\u001b[39m\n",
      "\u001b[1;31mTypeError\u001b[0m: Kernel.raw_input() takes from 1 to 2 positional arguments but 4 were given"
     ]
    }
   ],
   "source": [
    "soma = 0\n",
    "for i in range (1,6) :\n",
    "    idade = int (input (\"Entre com a idade\", i, \" :\"))\n",
    "    soma = soma + idade\n",
    "media = soma / 5\n",
    "print (\"A media das idades é: \", media)"
   ]
  },
  {
   "cell_type": "code",
   "execution_count": null,
   "id": "dc1f09cb-83c7-42c9-9a25-1595dd093472",
   "metadata": {},
   "outputs": [],
   "source": [
    "# range = bolinha aberta inclui, bolinha aberta nao inclui\n",
    "# a bolinha aberta é até borda (range)"
   ]
  },
  {
   "cell_type": "code",
   "execution_count": null,
   "id": "e257aa51-bb4f-4cc0-9433-37fc497764f0",
   "metadata": {},
   "outputs": [],
   "source": [
    "soma = 0\n",
    "i = 1\n",
    "while i <= 5:\n",
    "    idade = int (input (\"Entre com a idade\", i, \":\"))\n",
    "    soma = soma + idade\n",
    "    i = i \n",
    "media = soma / 5\n",
    "print (\"A media das idades é: "
   ]
  },
  {
   "cell_type": "code",
   "execution_count": 14,
   "id": "90ce210a-f258-49e2-8c80-fd9f212f037f",
   "metadata": {},
   "outputs": [
    {
     "name": "stdout",
     "output_type": "stream",
     "text": [
      "10\n",
      "9\n",
      "8\n",
      "7\n",
      "6\n",
      "5\n",
      "4\n",
      "3\n",
      "2\n",
      "1\n"
     ]
    }
   ],
   "source": [
    "# contagem regressiva 10 a 1\n",
    "for i in range(10, 0, -1):\n",
    "    print(i)"
   ]
  },
  {
   "cell_type": "code",
   "execution_count": null,
   "id": "1cc72c96-1db2-4580-a927-35d21fe3519d",
   "metadata": {},
   "outputs": [],
   "source": []
  }
 ],
 "metadata": {
  "kernelspec": {
   "display_name": "Python [conda env:anaconda3]",
   "language": "python",
   "name": "conda-env-anaconda3-py"
  },
  "language_info": {
   "codemirror_mode": {
    "name": "ipython",
    "version": 3
   },
   "file_extension": ".py",
   "mimetype": "text/x-python",
   "name": "python",
   "nbconvert_exporter": "python",
   "pygments_lexer": "ipython3",
   "version": "3.13.5"
  }
 },
 "nbformat": 4,
 "nbformat_minor": 5
}

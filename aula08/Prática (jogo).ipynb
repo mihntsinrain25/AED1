{
 "cells": [
  {
   "cell_type": "code",
   "execution_count": null,
   "id": "67c549e7-c62c-4041-920d-7adbaa008ad3",
   "metadata": {},
   "outputs": [
    {
     "name": "stdout",
     "output_type": "stream",
     "text": [
      "10\n"
     ]
    }
   ],
   "source": [
    "import random\n",
    "numero_aleatorio = random.randint(1, 50)\n",
    "print(numero_aleatorio)"
   ]
  },
  {
   "cell_type": "code",
   "execution_count": null,
   "id": "aad8f954-bdb0-4a62-9231-e7ab1c07331d",
   "metadata": {},
   "outputs": [],
   "source": [
    "#Obter um número aleatório\n",
    "#Carregar a função randint() do pacote random\n",
    "from random import randint"
   ]
  },
  {
   "cell_type": "code",
   "execution_count": null,
   "id": "e6f7ed9f-eba0-4b7f-adc3-e2947dbd5bb1",
   "metadata": {},
   "outputs": [],
   "source": [
    "#Carregar em uma variável o valor aleatório\n",
    "n = randint(1, 50)"
   ]
  },
  {
   "cell_type": "code",
   "execution_count": null,
   "id": "32dd75fc-dad9-45da-b672-7bdca9039aa5",
   "metadata": {},
   "outputs": [
    {
     "name": "stdout",
     "output_type": "stream",
     "text": [
      "6\n"
     ]
    }
   ],
   "source": [
    "#Mostrando o número aleatório\n",
    "print(n)"
   ]
  },
  {
   "cell_type": "code",
   "execution_count": null,
   "id": "a2e74dac-c6d2-47cd-926b-7c703baebf6e",
   "metadata": {},
   "outputs": [
    {
     "name": "stdout",
     "output_type": "stream",
     "text": [
      "Digite um palpite <entre 1 e 50>:  45\n"
     ]
    }
   ],
   "source": [
    "#Solicita um palpite para o usuário\n",
    "p = int(input(\"Digite um palpite <entre 1 e 50>: \"))"
   ]
  },
  {
   "cell_type": "code",
   "execution_count": null,
   "id": "6bec8d91-1063-4469-9303-79dbafad6002",
   "metadata": {},
   "outputs": [
    {
     "name": "stdout",
     "output_type": "stream",
     "text": [
      "Não foi dessa vez... o número sorteado era:  6\n"
     ]
    }
   ],
   "source": [
    "#Compara  o palpite com o número sorteado (aleatório)\n",
    "if p == n:\n",
    "    print(\"Parabéns! Você acertou!\")\n",
    "else:\n",
    "    print(\"Não foi dessa vez... o número sorteado era: \", n)"
   ]
  },
  {
   "cell_type": "code",
   "execution_count": null,
   "id": "c8551d42-c41c-49dc-83c0-4c0c632d6134",
   "metadata": {},
   "outputs": [
    {
     "name": "stdout",
     "output_type": "stream",
     "text": [
      "Digite um palpite <entre 1 e 50>:  45\n"
     ]
    },
    {
     "name": "stdout",
     "output_type": "stream",
     "text": [
      "45\n",
      "Parabéns! Você acertou!\n"
     ]
    }
   ],
   "source": [
    "p = int(input(\"Digite um palpite <entre 1 e 50>: \"))\n",
    "\n",
    "from random import randint\n",
    "n = randint(1, 50)\n",
    "print(n)\n",
    "\n",
    "if p == n:\n",
    "    print(\"Parabéns! Você acertou!\")\n",
    "else:\n",
    "    print(\"Não foi dessa vez... o número sorteado era: \", n)"
   ]
  },
  {
   "cell_type": "code",
   "execution_count": null,
   "id": "ab561c21-3e1d-49f5-acce-d8b985beaa54",
   "metadata": {},
   "outputs": [
    {
     "name": "stdout",
     "output_type": "stream",
     "text": [
      "Digite um palpite <entre 1 e 100>:  20\n"
     ]
    },
    {
     "name": "stdout",
     "output_type": "stream",
     "text": [
      "Seu palpite foi menor. Tente um número maior!\n",
      "Seu palpite está  FRIO\n"
     ]
    },
    {
     "name": "stdout",
     "output_type": "stream",
     "text": [
      "Digite um palpite <entre 1 e 100>:  50\n"
     ]
    },
    {
     "name": "stdout",
     "output_type": "stream",
     "text": [
      "Seu palpite foi menor. Tente um número maior!\n",
      "Seu palpite está  FRIO\n"
     ]
    },
    {
     "name": "stdout",
     "output_type": "stream",
     "text": [
      "Digite um palpite <entre 1 e 100>:  60\n"
     ]
    },
    {
     "name": "stdout",
     "output_type": "stream",
     "text": [
      "Seu palpite foi menor. Tente um número maior!\n",
      "Seu palpite está  FRIO\n"
     ]
    },
    {
     "name": "stdout",
     "output_type": "stream",
     "text": [
      "Digite um palpite <entre 1 e 100>:  70\n"
     ]
    },
    {
     "name": "stdout",
     "output_type": "stream",
     "text": [
      "Seu palpite foi maior. Tente um número menor!\n",
      "Seu palpite está  QUENTE\n"
     ]
    },
    {
     "name": "stdout",
     "output_type": "stream",
     "text": [
      "Digite um palpite <entre 1 e 100>:  65\n"
     ]
    },
    {
     "name": "stdout",
     "output_type": "stream",
     "text": [
      "Seu palpite foi menor. Tente um número maior!\n",
      "Seu palpite está  QUENTE\n"
     ]
    },
    {
     "name": "stdout",
     "output_type": "stream",
     "text": [
      "Digite um palpite <entre 1 e 100>:  68\n"
     ]
    },
    {
     "name": "stdout",
     "output_type": "stream",
     "text": [
      "Seu palpite foi menor. Tente um número maior!\n",
      "Seu palpite está  QUENTE\n"
     ]
    },
    {
     "name": "stdout",
     "output_type": "stream",
     "text": [
      "Digite um palpite <entre 1 e 100>:  69\n"
     ]
    },
    {
     "name": "stdout",
     "output_type": "stream",
     "text": [
      "Parabéns! Você acertou!\n"
     ]
    },
    {
     "name": "stdout",
     "output_type": "stream",
     "text": [
      "Deseja continuar? S/N:  N\n"
     ]
    }
   ],
   "source": [
    "while True: \n",
    "    #Carregar em uma variável o valor aleatório\n",
    "    from random import randint\n",
    "    n = randint(1, 100)\n",
    "    \n",
    "    while True:\n",
    "        #Solicita um palpite para o usuário\n",
    "        p = int(input(\"Digite um palpite <entre 1 e 100>: \"))\n",
    "        \n",
    "        #Compara o palpite com o número sorteado (aleatório)\n",
    "        d = abs(p - n)\n",
    "        if d > 5:\n",
    "            qf = \"FRIO\"\n",
    "        else:\n",
    "            qf = \"QUENTE\"\n",
    "        if p == n:\n",
    "            print(\"Parabéns! Você acertou!\")\n",
    "            break\n",
    "        elif p > n:\n",
    "            print(\"Seu palpite foi maior. Tente um número menor!\")\n",
    "        else:\n",
    "            print(\"Seu palpite foi menor. Tente um número maior!\")\n",
    "        print(\"Seu palpite está \", qf)\n",
    "    sn = input(\"Deseja continuar? S/N: \")\n",
    "    if sn == \"N\":\n",
    "        break"
   ]
  },
  {
   "cell_type": "code",
   "execution_count": null,
   "id": "4a33cb95-6fbf-41ca-bfeb-626afbe653cf",
   "metadata": {},
   "outputs": [],
   "source": []
  }
 ],
 "metadata": {
  "kernelspec": {
   "display_name": "Python 3 (ipykernel)",
   "language": "python",
   "name": "python3"
  },
  "language_info": {
   "codemirror_mode": {
    "name": "ipython",
    "version": 3
   },
   "file_extension": ".py",
   "mimetype": "text/x-python",
   "name": "python",
   "nbconvert_exporter": "python",
   "pygments_lexer": "ipython3",
   "version": "3.13.5"
  }
 },
 "nbformat": 4,
 "nbformat_minor": 5
}
